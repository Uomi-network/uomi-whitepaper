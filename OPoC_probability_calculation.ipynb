{
 "cells": [
  {
   "cell_type": "markdown",
   "id": "received-capital",
   "metadata": {},
   "source": [
    "# No Collusion formula"
   ]
  },
  {
   "attachments": {
    "962f3327-28fb-4ff7-b989-6790a3d41db1.png": {
     "image/png": "[encoded data removed]"
    }
   },
   "cell_type": "markdown",
   "id": "induced-concept",
   "metadata": {},
   "source": [
    "![Screenshot 2024-09-24 alle 10.10.38.png](attachment:962f3327-28fb-4ff7-b989-6790a3d41db1.png)"
   ]
  },
  {
   "cell_type": "code",
   "execution_count": 26,
   "id": "allied-vessel",
   "metadata": {},
   "outputs": [
    {
     "data": {
      "text/plain": [
       "(7.5751470723255065e-06, 1320106382.6910074)"
      ]
     },
     "execution_count": 26,
     "metadata": {},
     "output_type": "execute_result"
    }
   ],
   "source": [
    "import math\n",
    "\n",
    "# Combination function\n",
    "def combination(n, k):\n",
    "    return math.factorial(n) / (math.factorial(k) * math.factorial(n - k))\n",
    "\n",
    "# Values\n",
    "V = 100\n",
    "H = 66\n",
    "v = 10\n",
    "\n",
    "dishonest = V - H\n",
    "\n",
    "# Way to choose 0 honest out of 66\n",
    "H_dishonest_ways = combination(H, 0)\n",
    "\n",
    "# Ways to choose 10 dishonest out of 34\n",
    "dishonest_ways = combination(dishonest, v)\n",
    "\n",
    "# Total ways to choose 10 out of 100\n",
    "total_ways = combination(V, v)\n",
    "\n",
    "# Probability of selecting 0 honest (all 10 dishonest)\n",
    "P_X_0 = H_dishonest_ways * dishonest_ways / total_ways\n",
    "\n",
    "# Stake amount\n",
    "stake = 10000\n",
    "\n",
    "# Minimum reward for rational actor defecting\n",
    "reward_defect = stake / P_X_0\n",
    "\n",
    "P_X_0, reward_defect"
   ]
  },
  {
   "cell_type": "markdown",
   "id": "minor-faith",
   "metadata": {},
   "source": [
    "# Maximally adversarial environment 100% collusion among dishonest validators formula"
   ]
  },
  {
   "attachments": {
    "7233ca60-c995-429a-a75a-26cf1a98ae71.png": {
     "image/png": "[encoded data removed]"
    }
   },
   "cell_type": "markdown",
   "id": "nuclear-joining",
   "metadata": {},
   "source": [
    "![Screenshot 2024-09-24 alle 10.11.05.png](attachment:7233ca60-c995-429a-a75a-26cf1a98ae71.png)"
   ]
  },
  {
   "cell_type": "code",
   "execution_count": 29,
   "id": "international-sheep",
   "metadata": {},
   "outputs": [
    {
     "data": {
      "text/plain": [
       "(2.2279844330369138e-05, 448836170.1149425)"
      ]
     },
     "execution_count": 29,
     "metadata": {},
     "output_type": "execute_result"
    }
   ],
   "source": [
    "import math\n",
    "\n",
    "# Combination function\n",
    "def combination(n, k):\n",
    "    return math.factorial(n) / (math.factorial(k) * math.factorial(n - k))\n",
    "\n",
    "# Values\n",
    "V = 100  # Total validators\n",
    "H = 66   # Honest validators\n",
    "v = 10   # Validators selected\n",
    "\n",
    "dishonest = V - H  # Number of dishonest validators\n",
    "\n",
    "# Way to choose 0 honest out of 66\n",
    "H_dishonest_ways = combination(H, 0)\n",
    "\n",
    "# Ways to choose (v-1) dishonest out of (dishonest-1) for the second stage, as one dishonest validator is already chosen in T0\n",
    "dishonest_ways = combination(dishonest - 1, v - 1)\n",
    "\n",
    "# Total ways to choose (v-1) out of (V-1), as one validator is already chosen in T0\n",
    "total_ways = combination(V - 1, v - 1)\n",
    "\n",
    "# Probability of selecting 0 honest validators (all (v-1) dishonest)\n",
    "P_X_0 = H_dishonest_ways * dishonest_ways / total_ways\n",
    "\n",
    "# Stake amount\n",
    "stake = 10000\n",
    "\n",
    "# Minimum reward for rational actor defecting\n",
    "reward_defect = stake / P_X_0\n",
    "\n",
    "P_X_0, reward_defect\n"
   ]
  },
  {
   "cell_type": "markdown",
   "id": "developed-outdoors",
   "metadata": {},
   "source": [
    "Note: Consensus Paper and Whitepaper numbers are approximated"
   ]
  }
 ],
 "metadata": {
  "kernelspec": {
   "display_name": "Python 3",
   "language": "python",
   "name": "python3"
  },
  "language_info": {
   "codemirror_mode": {
    "name": "ipython",
    "version": 3
   },
   "file_extension": ".py",
   "mimetype": "text/x-python",
   "name": "python",
   "nbconvert_exporter": "python",
   "pygments_lexer": "ipython3",
   "version": "3.8.5"
  }
 },
 "nbformat": 4,
 "nbformat_minor": 5
}
